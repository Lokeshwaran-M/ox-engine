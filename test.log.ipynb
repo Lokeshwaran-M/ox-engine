{
 "cells": [
  {
   "cell_type": "code",
   "execution_count": 1,
   "metadata": {},
   "outputs": [
    {
     "name": "stderr",
     "output_type": "stream",
     "text": [
      "/home/lokesh/.local/lib/python3.11/site-packages/sentence_transformers/cross_encoder/CrossEncoder.py:11: TqdmExperimentalWarning: Using `tqdm.autonotebook.tqdm` in notebook mode. Use `tqdm.tqdm` instead to force console mode (e.g. in jupyter console)\n",
      "  from tqdm.autonotebook import tqdm, trange\n",
      "/home/lokesh/.local/lib/python3.11/site-packages/huggingface_hub/file_download.py:1132: FutureWarning: `resume_download` is deprecated and will be removed in version 1.0.0. Downloads always resume when possible. If you want to force a new download, use `force_download=True`.\n",
      "  warnings.warn(\n"
     ]
    }
   ],
   "source": [
    "from ox_engine.db.log import Log\n",
    "\n",
    "log=Log(\"test\")\n"
   ]
  },
  {
   "cell_type": "code",
   "execution_count": 2,
   "metadata": {},
   "outputs": [],
   "source": [
    "# log.set_doc(\"note\")"
   ]
  },
  {
   "cell_type": "code",
   "execution_count": 3,
   "metadata": {},
   "outputs": [
    {
     "name": "stdout",
     "output_type": "stream",
     "text": [
      "ox-db : logged data : 0-key-gcYM \n",
      "log-[25_06_2024].index\n",
      "ox-db : logged data : 0-key-gcYM \n",
      "log-[25_06_2024]\n",
      "ox-db : logged data : 0-key-gcYM \n",
      "log-[25_06_2024].ox-vec\n",
      "ox-db : logged data : 1-key-YBZ7 \n",
      "log-[25_06_2024].index\n",
      "ox-db : logged data : 1-key-YBZ7 \n",
      "log-[25_06_2024]\n",
      "ox-db : logged data : 1-key-YBZ7 \n",
      "log-[25_06_2024].ox-vec\n",
      "ox-db : logged data : 2-key-MSUl \n",
      "log-[25_06_2024].index\n",
      "ox-db : logged data : 2-key-MSUl \n",
      "log-[25_06_2024]\n",
      "ox-db : logged data : 2-key-MSUl \n",
      "log-[25_06_2024].ox-vec\n",
      "ox-db : logged data : 3-key-90NG \n",
      "log-[25_06_2024].index\n",
      "ox-db : logged data : 3-key-90NG \n",
      "log-[25_06_2024]\n",
      "ox-db : logged data : 3-key-90NG \n",
      "log-[25_06_2024].ox-vec\n"
     ]
    },
    {
     "data": {
      "text/plain": [
       "'3-key-90NG'"
      ]
     },
     "execution_count": 3,
     "metadata": {},
     "output_type": "execute_result"
    }
   ],
   "source": [
    "log.push(\"remember me : need to do code implementation for key lang conversation \")\n",
    "log.push(\"remember me : gym time is morning from today  \")\n",
    "log.push(\"remember me : base vector db arcchitecture is done  \")\n",
    "log.push(\"remember me : need to do more research on deep learning  \")"
   ]
  },
  {
   "cell_type": "code",
   "execution_count": 4,
   "metadata": {},
   "outputs": [
    {
     "data": {
      "text/plain": [
       "4"
      ]
     },
     "execution_count": 4,
     "metadata": {},
     "output_type": "execute_result"
    }
   ],
   "source": [
    "log.doc_entry"
   ]
  },
  {
   "cell_type": "code",
   "execution_count": 5,
   "metadata": {},
   "outputs": [
    {
     "name": "stdout",
     "output_type": "stream",
     "text": [
      "ox-db : logged data : 4-key-zbUq \n",
      "log-[25_06_2024].index\n",
      "ox-db : logged data : 4-key-zbUq \n",
      "log-[25_06_2024]\n",
      "ox-db : logged data : 4-key-zbUq \n",
      "log-[25_06_2024].ox-vec\n",
      "ox-db : logged data : 5-key-aWBL \n",
      "log-[25_06_2024].index\n",
      "ox-db : logged data : 5-key-aWBL \n",
      "log-[25_06_2024]\n",
      "ox-db : logged data : 5-key-aWBL \n",
      "log-[25_06_2024].ox-vec\n",
      "ox-db : logged data : 6-key-q8gf \n",
      "log-[25_06_2024].index\n",
      "ox-db : logged data : 6-key-q8gf \n",
      "log-[25_06_2024]\n",
      "ox-db : logged data : 6-key-q8gf \n",
      "log-[25_06_2024].ox-vec\n",
      "ox-db : logged data : 7-key-1BHz \n",
      "log-[25_06_2024].index\n",
      "ox-db : logged data : 7-key-1BHz \n",
      "log-[25_06_2024]\n",
      "ox-db : logged data : 7-key-1BHz \n",
      "log-[25_06_2024].ox-vec\n"
     ]
    },
    {
     "data": {
      "text/plain": [
       "'7-key-1BHz'"
      ]
     },
     "execution_count": 5,
     "metadata": {},
     "output_type": "execute_result"
    }
   ],
   "source": [
    "log.push(\"need to do : find efficient data store and retrive method  \")\n",
    "log.push(\"need to do : i need to finesh deamon search asap  \")\n",
    "log.push(\"need to do : need to sleep  \")\n",
    "log.push(\"need to do : look out for bugs in code base and fix it   \")\n"
   ]
  },
  {
   "cell_type": "code",
   "execution_count": 6,
   "metadata": {},
   "outputs": [
    {
     "name": "stdout",
     "output_type": "stream",
     "text": [
      "ox-db : logged data : 8-key-MSkw \n",
      "log-[25_06_2024].index\n",
      "ox-db : logged data : 8-key-MSkw \n",
      "log-[25_06_2024]\n",
      "ox-db : logged data : 8-key-MSkw \n",
      "log-[25_06_2024].ox-vec\n",
      "ox-db : logged data : 9-key-2w2w \n",
      "log-[25_06_2024].index\n",
      "ox-db : logged data : 9-key-2w2w \n",
      "log-[25_06_2024]\n",
      "ox-db : logged data : 9-key-2w2w \n",
      "log-[25_06_2024].ox-vec\n",
      "ox-db : logged data : 10-key-ltJ0 \n",
      "log-[25_06_2024].index\n",
      "ox-db : logged data : 10-key-ltJ0 \n",
      "log-[25_06_2024]\n",
      "ox-db : logged data : 10-key-ltJ0 \n",
      "log-[25_06_2024].ox-vec\n",
      "ox-db : logged data : 11-key-dXJf \n",
      "log-[25_06_2024].index\n",
      "ox-db : logged data : 11-key-dXJf \n",
      "log-[25_06_2024]\n",
      "ox-db : logged data : 11-key-dXJf \n",
      "log-[25_06_2024].ox-vec\n",
      "ox-db : logged data : 12-key-gxbL \n",
      "log-[25_06_2024].index\n",
      "ox-db : logged data : 12-key-gxbL \n",
      "log-[25_06_2024]\n",
      "ox-db : logged data : 12-key-gxbL \n",
      "log-[25_06_2024].ox-vec\n"
     ]
    },
    {
     "data": {
      "text/plain": [
       "'12-key-gxbL'"
      ]
     },
     "execution_count": 6,
     "metadata": {},
     "output_type": "execute_result"
    }
   ],
   "source": [
    "log.push(\"Hi I'm OX-AI your AI personal database \")\n",
    "log.push(\"I can store your documents with vector embaddings and retrive it based on vector search\")\n",
    "log.push(\"I'm currently under development\")\n",
    "log.push(\"looking forward to do more to increase your productivity!\")\n",
    "log.push(\"Hi I'm your AI personal database and I can store your documents with vector embeddings and retrieve them based on vector search. I'm currently under development, looking forward to doing more to increase your productivity!\")"
   ]
  },
  {
   "cell_type": "code",
   "execution_count": 7,
   "metadata": {},
   "outputs": [
    {
     "name": "stdout",
     "output_type": "stream",
     "text": [
      "ox-db : logged data : 13-time-6RLj \n",
      "log-[25_06_2024].index\n",
      "ox-db : logged data : 13-time-6RLj \n",
      "log-[25_06_2024]\n",
      "ox-db : logged data : 13-time-6RLj \n",
      "log-[25_06_2024].ox-vec\n"
     ]
    },
    {
     "data": {
      "text/plain": [
       "'13-time-6RLj'"
      ]
     },
     "execution_count": 7,
     "metadata": {},
     "output_type": "execute_result"
    }
   ],
   "source": [
    "log.push(\"hi\",key=\"time\")"
   ]
  },
  {
   "cell_type": "code",
   "execution_count": 8,
   "metadata": {},
   "outputs": [
    {
     "data": {
      "text/plain": [
       "[{'uid': '0-key-gcYM',\n",
       "  'data': 'remember me : need to do code implementation for key lang conversation '},\n",
       " {'uid': '1-key-YBZ7',\n",
       "  'data': 'remember me : gym time is morning from today  '},\n",
       " {'uid': '2-key-MSUl',\n",
       "  'data': 'remember me : base vector db arcchitecture is done  '},\n",
       " {'uid': '3-key-90NG',\n",
       "  'data': 'remember me : need to do more research on deep learning  '},\n",
       " {'uid': '4-key-zbUq',\n",
       "  'data': 'need to do : find efficient data store and retrive method  '},\n",
       " {'uid': '5-key-aWBL',\n",
       "  'data': 'need to do : i need to finesh deamon search asap  '},\n",
       " {'uid': '6-key-q8gf', 'data': 'need to do : need to sleep  '},\n",
       " {'uid': '7-key-1BHz',\n",
       "  'data': 'need to do : look out for bugs in code base and fix it   '},\n",
       " {'uid': '8-key-MSkw', 'data': \"Hi I'm OX-AI your AI personal database \"},\n",
       " {'uid': '9-key-2w2w',\n",
       "  'data': 'I can store your documents with vector embaddings and retrive it based on vector search'},\n",
       " {'uid': '10-key-ltJ0', 'data': \"I'm currently under development\"},\n",
       " {'uid': '11-key-dXJf',\n",
       "  'data': 'looking forward to do more to increase your productivity!'},\n",
       " {'uid': '12-key-gxbL',\n",
       "  'data': \"Hi I'm your AI personal database and I can store your documents with vector embeddings and retrieve them based on vector search. I'm currently under development, looking forward to doing more to increase your productivity!\"},\n",
       " {'uid': '13-time-6RLj', 'data': 'hi'}]"
      ]
     },
     "execution_count": 8,
     "metadata": {},
     "output_type": "execute_result"
    }
   ],
   "source": [
    "log.pull()"
   ]
  },
  {
   "cell_type": "code",
   "execution_count": 9,
   "metadata": {},
   "outputs": [
    {
     "data": {
      "text/plain": [
       "[{'uid': '8-key-MSkw', 'data': \"Hi I'm OX-AI your AI personal database \"},\n",
       " {'uid': '13-time-6RLj', 'data': 'hi'},\n",
       " {'uid': '1-key-YBZ7',\n",
       "  'data': 'remember me : gym time is morning from today  '}]"
      ]
     },
     "execution_count": 9,
     "metadata": {},
     "output_type": "execute_result"
    }
   ],
   "source": [
    "log.search(\"hi ox-ai\",3)"
   ]
  },
  {
   "cell_type": "code",
   "execution_count": 10,
   "metadata": {},
   "outputs": [
    {
     "data": {
      "text/plain": [
       "'14-key-w5HD'"
      ]
     },
     "execution_count": 10,
     "metadata": {},
     "output_type": "execute_result"
    }
   ],
   "source": [
    "log.gen_uid()"
   ]
  },
  {
   "cell_type": "code",
   "execution_count": 11,
   "metadata": {},
   "outputs": [
    {
     "name": "stdout",
     "output_type": "stream",
     "text": [
      "ox-db : logged data : 14-key-3Tig \n",
      "log-[25_06_2024].index\n",
      "ox-db : logged data : 14-key-3Tig \n",
      "log-[25_06_2024]\n",
      "ox-db : logged data : 14-key-3Tig \n",
      "log-[25_06_2024].ox-vec\n"
     ]
    },
    {
     "data": {
      "text/plain": [
       "'14-key-3Tig'"
      ]
     },
     "execution_count": 11,
     "metadata": {},
     "output_type": "execute_result"
    }
   ],
   "source": [
    "log.push(\"need to : implement rag system that pulls data from the internet and chunk it and store as knowledge for easy retrivel\")"
   ]
  },
  {
   "cell_type": "code",
   "execution_count": 12,
   "metadata": {},
   "outputs": [
    {
     "data": {
      "text/plain": [
       "[{'uid': '14-key-3Tig',\n",
       "  'data': 'need to : implement rag system that pulls data from the internet and chunk it and store as knowledge for easy retrivel'},\n",
       " {'uid': '13-time-6RLj', 'data': 'hi'}]"
      ]
     },
     "execution_count": 12,
     "metadata": {},
     "output_type": "execute_result"
    }
   ],
   "source": [
    "log.search(\"rag\",2)"
   ]
  },
  {
   "cell_type": "code",
   "execution_count": 13,
   "metadata": {},
   "outputs": [
    {
     "data": {
      "text/plain": [
       "[{'uid': '0-key-gcYM',\n",
       "  'data': 'remember me : need to do code implementation for key lang conversation '},\n",
       " {'uid': '1-key-YBZ7',\n",
       "  'data': 'remember me : gym time is morning from today  '},\n",
       " {'uid': '2-key-MSUl',\n",
       "  'data': 'remember me : base vector db arcchitecture is done  '},\n",
       " {'uid': '3-key-90NG',\n",
       "  'data': 'remember me : need to do more research on deep learning  '},\n",
       " {'uid': '4-key-zbUq',\n",
       "  'data': 'need to do : find efficient data store and retrive method  '},\n",
       " {'uid': '5-key-aWBL',\n",
       "  'data': 'need to do : i need to finesh deamon search asap  '},\n",
       " {'uid': '6-key-q8gf', 'data': 'need to do : need to sleep  '},\n",
       " {'uid': '7-key-1BHz',\n",
       "  'data': 'need to do : look out for bugs in code base and fix it   '},\n",
       " {'uid': '8-key-MSkw', 'data': \"Hi I'm OX-AI your AI personal database \"},\n",
       " {'uid': '9-key-2w2w',\n",
       "  'data': 'I can store your documents with vector embaddings and retrive it based on vector search'},\n",
       " {'uid': '10-key-ltJ0', 'data': \"I'm currently under development\"},\n",
       " {'uid': '11-key-dXJf',\n",
       "  'data': 'looking forward to do more to increase your productivity!'},\n",
       " {'uid': '12-key-gxbL',\n",
       "  'data': \"Hi I'm your AI personal database and I can store your documents with vector embeddings and retrieve them based on vector search. I'm currently under development, looking forward to doing more to increase your productivity!\"},\n",
       " {'uid': '13-time-6RLj', 'data': 'hi'},\n",
       " {'uid': '14-key-3Tig',\n",
       "  'data': 'need to : implement rag system that pulls data from the internet and chunk it and store as knowledge for easy retrivel'}]"
      ]
     },
     "execution_count": 13,
     "metadata": {},
     "output_type": "execute_result"
    }
   ],
   "source": [
    "log.pull()"
   ]
  },
  {
   "cell_type": "code",
   "execution_count": 18,
   "metadata": {},
   "outputs": [
    {
     "data": {
      "text/plain": [
       "[{'uid': '0-key-gcYM',\n",
       "  'data': 'remember me : need to do code implementation for key lang conversation '},\n",
       " {'uid': '1-key-YBZ7',\n",
       "  'data': 'remember me : gym time is morning from today  '},\n",
       " {'uid': '2-key-MSUl',\n",
       "  'data': 'remember me : base vector db arcchitecture is done  '},\n",
       " {'uid': '3-key-90NG',\n",
       "  'data': 'remember me : need to do more research on deep learning  '},\n",
       " {'uid': '4-key-zbUq',\n",
       "  'data': 'need to do : find efficient data store and retrive method  '},\n",
       " {'uid': '5-key-aWBL',\n",
       "  'data': 'need to do : i need to finesh deamon search asap  '},\n",
       " {'uid': '6-key-q8gf', 'data': 'need to do : need to sleep  '},\n",
       " {'uid': '7-key-1BHz',\n",
       "  'data': 'need to do : look out for bugs in code base and fix it   '},\n",
       " {'uid': '8-key-MSkw', 'data': \"Hi I'm OX-AI your AI personal database \"},\n",
       " {'uid': '9-key-2w2w',\n",
       "  'data': 'I can store your documents with vector embaddings and retrive it based on vector search'},\n",
       " {'uid': '10-key-ltJ0', 'data': \"I'm currently under development\"},\n",
       " {'uid': '11-key-dXJf',\n",
       "  'data': 'looking forward to do more to increase your productivity!'},\n",
       " {'uid': '12-key-gxbL',\n",
       "  'data': \"Hi I'm your AI personal database and I can store your documents with vector embeddings and retrieve them based on vector search. I'm currently under development, looking forward to doing more to increase your productivity!\"},\n",
       " {'uid': '13-time-6RLj', 'data': 'hi'},\n",
       " {'uid': '14-key-3Tig',\n",
       "  'data': 'need to : implement rag system that pulls data from the internet and chunk it and store as knowledge for easy retrivel'}]"
      ]
     },
     "execution_count": 18,
     "metadata": {},
     "output_type": "execute_result"
    }
   ],
   "source": [
    "log.pull(time=\"09\")"
   ]
  },
  {
   "cell_type": "code",
   "execution_count": 19,
   "metadata": {},
   "outputs": [
    {
     "data": {
      "text/plain": [
       "[{'uid': '0-key-gcYM',\n",
       "  'data': 'remember me : need to do code implementation for key lang conversation '},\n",
       " {'uid': '1-key-YBZ7',\n",
       "  'data': 'remember me : gym time is morning from today  '},\n",
       " {'uid': '2-key-MSUl',\n",
       "  'data': 'remember me : base vector db arcchitecture is done  '},\n",
       " {'uid': '3-key-90NG',\n",
       "  'data': 'remember me : need to do more research on deep learning  '},\n",
       " {'uid': '4-key-zbUq',\n",
       "  'data': 'need to do : find efficient data store and retrive method  '},\n",
       " {'uid': '5-key-aWBL',\n",
       "  'data': 'need to do : i need to finesh deamon search asap  '},\n",
       " {'uid': '6-key-q8gf', 'data': 'need to do : need to sleep  '},\n",
       " {'uid': '7-key-1BHz',\n",
       "  'data': 'need to do : look out for bugs in code base and fix it   '},\n",
       " {'uid': '8-key-MSkw', 'data': \"Hi I'm OX-AI your AI personal database \"},\n",
       " {'uid': '9-key-2w2w',\n",
       "  'data': 'I can store your documents with vector embaddings and retrive it based on vector search'},\n",
       " {'uid': '10-key-ltJ0', 'data': \"I'm currently under development\"},\n",
       " {'uid': '11-key-dXJf',\n",
       "  'data': 'looking forward to do more to increase your productivity!'},\n",
       " {'uid': '12-key-gxbL',\n",
       "  'data': \"Hi I'm your AI personal database and I can store your documents with vector embeddings and retrieve them based on vector search. I'm currently under development, looking forward to doing more to increase your productivity!\"},\n",
       " {'uid': '13-time-6RLj', 'data': 'hi'},\n",
       " {'uid': '14-key-3Tig',\n",
       "  'data': 'need to : implement rag system that pulls data from the internet and chunk it and store as knowledge for easy retrivel'}]"
      ]
     },
     "execution_count": 19,
     "metadata": {},
     "output_type": "execute_result"
    }
   ],
   "source": [
    "log.pull(date=\"25_06\")"
   ]
  },
  {
   "cell_type": "code",
   "execution_count": 16,
   "metadata": {},
   "outputs": [
    {
     "data": {
      "text/plain": [
       "['13-time-6RLj']"
      ]
     },
     "execution_count": 16,
     "metadata": {},
     "output_type": "execute_result"
    }
   ],
   "source": [
    "log.search_uid(key=\"time\")"
   ]
  },
  {
   "cell_type": "code",
   "execution_count": 20,
   "metadata": {},
   "outputs": [
    {
     "data": {
      "text/plain": [
       "[{'uid': '0-key-gcYM',\n",
       "  'data': {'uid': '0-key-gcYM',\n",
       "   'key': 'key',\n",
       "   'doc': 'log-[25_06_2024]',\n",
       "   'time': '09:23:23_PM',\n",
       "   'date': '25_06_2024',\n",
       "   'vec_model': 'sentence-transformers/all-MiniLM-L6-v2',\n",
       "   'discription': '',\n",
       "   'meta_data': []}},\n",
       " {'uid': '1-key-YBZ7',\n",
       "  'data': {'uid': '1-key-YBZ7',\n",
       "   'key': 'key',\n",
       "   'doc': 'log-[25_06_2024]',\n",
       "   'time': '09:23:23_PM',\n",
       "   'date': '25_06_2024',\n",
       "   'vec_model': 'sentence-transformers/all-MiniLM-L6-v2',\n",
       "   'discription': '',\n",
       "   'meta_data': []}},\n",
       " {'uid': '2-key-MSUl',\n",
       "  'data': {'uid': '2-key-MSUl',\n",
       "   'key': 'key',\n",
       "   'doc': 'log-[25_06_2024]',\n",
       "   'time': '09:23:23_PM',\n",
       "   'date': '25_06_2024',\n",
       "   'vec_model': 'sentence-transformers/all-MiniLM-L6-v2',\n",
       "   'discription': '',\n",
       "   'meta_data': []}},\n",
       " {'uid': '3-key-90NG',\n",
       "  'data': {'uid': '3-key-90NG',\n",
       "   'key': 'key',\n",
       "   'doc': 'log-[25_06_2024]',\n",
       "   'time': '09:23:23_PM',\n",
       "   'date': '25_06_2024',\n",
       "   'vec_model': 'sentence-transformers/all-MiniLM-L6-v2',\n",
       "   'discription': '',\n",
       "   'meta_data': []}},\n",
       " {'uid': '4-key-zbUq',\n",
       "  'data': {'uid': '4-key-zbUq',\n",
       "   'key': 'key',\n",
       "   'doc': 'log-[25_06_2024]',\n",
       "   'time': '09:23:23_PM',\n",
       "   'date': '25_06_2024',\n",
       "   'vec_model': 'sentence-transformers/all-MiniLM-L6-v2',\n",
       "   'discription': '',\n",
       "   'meta_data': []}},\n",
       " {'uid': '5-key-aWBL',\n",
       "  'data': {'uid': '5-key-aWBL',\n",
       "   'key': 'key',\n",
       "   'doc': 'log-[25_06_2024]',\n",
       "   'time': '09:23:23_PM',\n",
       "   'date': '25_06_2024',\n",
       "   'vec_model': 'sentence-transformers/all-MiniLM-L6-v2',\n",
       "   'discription': '',\n",
       "   'meta_data': []}},\n",
       " {'uid': '6-key-q8gf',\n",
       "  'data': {'uid': '6-key-q8gf',\n",
       "   'key': 'key',\n",
       "   'doc': 'log-[25_06_2024]',\n",
       "   'time': '09:23:23_PM',\n",
       "   'date': '25_06_2024',\n",
       "   'vec_model': 'sentence-transformers/all-MiniLM-L6-v2',\n",
       "   'discription': '',\n",
       "   'meta_data': []}},\n",
       " {'uid': '7-key-1BHz',\n",
       "  'data': {'uid': '7-key-1BHz',\n",
       "   'key': 'key',\n",
       "   'doc': 'log-[25_06_2024]',\n",
       "   'time': '09:23:23_PM',\n",
       "   'date': '25_06_2024',\n",
       "   'vec_model': 'sentence-transformers/all-MiniLM-L6-v2',\n",
       "   'discription': '',\n",
       "   'meta_data': []}},\n",
       " {'uid': '8-key-MSkw',\n",
       "  'data': {'uid': '8-key-MSkw',\n",
       "   'key': 'key',\n",
       "   'doc': 'log-[25_06_2024]',\n",
       "   'time': '09:23:23_PM',\n",
       "   'date': '25_06_2024',\n",
       "   'vec_model': 'sentence-transformers/all-MiniLM-L6-v2',\n",
       "   'discription': '',\n",
       "   'meta_data': []}},\n",
       " {'uid': '9-key-2w2w',\n",
       "  'data': {'uid': '9-key-2w2w',\n",
       "   'key': 'key',\n",
       "   'doc': 'log-[25_06_2024]',\n",
       "   'time': '09:23:23_PM',\n",
       "   'date': '25_06_2024',\n",
       "   'vec_model': 'sentence-transformers/all-MiniLM-L6-v2',\n",
       "   'discription': '',\n",
       "   'meta_data': []}},\n",
       " {'uid': '10-key-ltJ0',\n",
       "  'data': {'uid': '10-key-ltJ0',\n",
       "   'key': 'key',\n",
       "   'doc': 'log-[25_06_2024]',\n",
       "   'time': '09:23:23_PM',\n",
       "   'date': '25_06_2024',\n",
       "   'vec_model': 'sentence-transformers/all-MiniLM-L6-v2',\n",
       "   'discription': '',\n",
       "   'meta_data': []}},\n",
       " {'uid': '11-key-dXJf',\n",
       "  'data': {'uid': '11-key-dXJf',\n",
       "   'key': 'key',\n",
       "   'doc': 'log-[25_06_2024]',\n",
       "   'time': '09:23:23_PM',\n",
       "   'date': '25_06_2024',\n",
       "   'vec_model': 'sentence-transformers/all-MiniLM-L6-v2',\n",
       "   'discription': '',\n",
       "   'meta_data': []}},\n",
       " {'uid': '12-key-gxbL',\n",
       "  'data': {'uid': '12-key-gxbL',\n",
       "   'key': 'key',\n",
       "   'doc': 'log-[25_06_2024]',\n",
       "   'time': '09:23:23_PM',\n",
       "   'date': '25_06_2024',\n",
       "   'vec_model': 'sentence-transformers/all-MiniLM-L6-v2',\n",
       "   'discription': '',\n",
       "   'meta_data': []}},\n",
       " {'uid': '13-time-6RLj',\n",
       "  'data': {'uid': '13-time-6RLj',\n",
       "   'key': 'time',\n",
       "   'doc': 'log-[25_06_2024]',\n",
       "   'time': '09:23:23_PM',\n",
       "   'date': '25_06_2024',\n",
       "   'vec_model': 'sentence-transformers/all-MiniLM-L6-v2',\n",
       "   'discription': '',\n",
       "   'meta_data': []}},\n",
       " {'uid': '14-key-3Tig',\n",
       "  'data': {'uid': '14-key-3Tig',\n",
       "   'key': 'key',\n",
       "   'doc': 'log-[25_06_2024]',\n",
       "   'time': '09:23:24_PM',\n",
       "   'date': '25_06_2024',\n",
       "   'vec_model': 'sentence-transformers/all-MiniLM-L6-v2',\n",
       "   'discription': '',\n",
       "   'meta_data': []}}]"
      ]
     },
     "execution_count": 20,
     "metadata": {},
     "output_type": "execute_result"
    }
   ],
   "source": [
    "log.pull(time=\"09\",docfile=log.doc+\".index\")"
   ]
  },
  {
   "cell_type": "code",
   "execution_count": null,
   "metadata": {},
   "outputs": [],
   "source": []
  }
 ],
 "metadata": {
  "kernelspec": {
   "display_name": "Python 3",
   "language": "python",
   "name": "python3"
  },
  "language_info": {
   "codemirror_mode": {
    "name": "ipython",
    "version": 3
   },
   "file_extension": ".py",
   "mimetype": "text/x-python",
   "name": "python",
   "nbconvert_exporter": "python",
   "pygments_lexer": "ipython3",
   "version": "3.11.9"
  }
 },
 "nbformat": 4,
 "nbformat_minor": 2
}
