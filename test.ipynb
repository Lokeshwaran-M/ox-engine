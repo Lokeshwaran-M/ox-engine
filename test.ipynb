{
 "cells": [
  {
   "cell_type": "code",
   "execution_count": 7,
   "metadata": {},
   "outputs": [],
   "source": [
    "from ox_engine.log import Log\n",
    "import tiktoken\n",
    "\n",
    "log=Log()\n",
    "tok = tiktoken.get_encoding(\"gpt2\")\n"
   ]
  },
  {
   "cell_type": "code",
   "execution_count": 8,
   "metadata": {},
   "outputs": [],
   "source": [
    "data =\"key:test tag:note - log with vector embaddings\"\n",
    "enc_data = tok.encode(data)\n"
   ]
  },
  {
   "cell_type": "code",
   "execution_count": 9,
   "metadata": {},
   "outputs": [
    {
     "name": "stdout",
     "output_type": "stream",
     "text": [
      "logged data : 10:42:56-PM \n",
      "/home/lokesh/.ox-db/test.json\n"
     ]
    }
   ],
   "source": [
    "log.push(enc_data,doc=\"test\",doc_format=\"json\")"
   ]
  },
  {
   "cell_type": "code",
   "execution_count": 12,
   "metadata": {},
   "outputs": [
    {
     "name": "stdout",
     "output_type": "stream",
     "text": [
      "[{'doc': 'test', 'key': '10:04:55-PM', 'data': [2539, 25, 9288, 7621, 25, 11295, 532, 2604, 351, 15879, 4072, 2860, 654]}]\n"
     ]
    }
   ],
   "source": [
    "\n",
    "# data =log.pull(doc=\"note\",doc_format=\"json\")\n",
    "data =log.pull(\"10:04:55-PM\",doc=\"test\",doc_format=\"json\")\n",
    "print(data)\n",
    "# dec_data = tok.decode(data[-1][\"data\"])\n",
    "# print(dec_data,data)"
   ]
  },
  {
   "cell_type": "code",
   "execution_count": null,
   "metadata": {},
   "outputs": [],
   "source": []
  }
 ],
 "metadata": {
  "kernelspec": {
   "display_name": "Python 3",
   "language": "python",
   "name": "python3"
  },
  "language_info": {
   "codemirror_mode": {
    "name": "ipython",
    "version": 3
   },
   "file_extension": ".py",
   "mimetype": "text/x-python",
   "name": "python",
   "nbconvert_exporter": "python",
   "pygments_lexer": "ipython3",
   "version": "3.11.9"
  }
 },
 "nbformat": 4,
 "nbformat_minor": 2
}
