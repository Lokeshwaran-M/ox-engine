{
 "cells": [
  {
   "cell_type": "code",
   "execution_count": 1,
   "metadata": {},
   "outputs": [
    {
     "name": "stderr",
     "output_type": "stream",
     "text": [
      "/home/lokesh/.local/lib/python3.11/site-packages/sentence_transformers/cross_encoder/CrossEncoder.py:11: TqdmExperimentalWarning: Using `tqdm.autonotebook.tqdm` in notebook mode. Use `tqdm.tqdm` instead to force console mode (e.g. in jupyter console)\n",
      "  from tqdm.autonotebook import tqdm, trange\n",
      "/home/lokesh/.local/lib/python3.11/site-packages/huggingface_hub/file_download.py:1132: FutureWarning: `resume_download` is deprecated and will be removed in version 1.0.0. Downloads always resume when possible. If you want to force a new download, use `force_download=True`.\n",
      "  warnings.warn(\n"
     ]
    }
   ],
   "source": [
    "from ox_engine.log import Log\n",
    "\n",
    "log=Log(\"test\")\n"
   ]
  },
  {
   "cell_type": "code",
   "execution_count": 2,
   "metadata": {},
   "outputs": [],
   "source": [
    "# log.set_doc(\"note\")"
   ]
  },
  {
   "cell_type": "code",
   "execution_count": 3,
   "metadata": {},
   "outputs": [
    {
     "name": "stdout",
     "output_type": "stream",
     "text": [
      "ox-db : logged data : key-lgd-11:37:45_PM-17_06_2024-qLCp \n",
      "/home/lokesh/test.ox-db/lgd-17_06_2024.bson\n",
      "ox-db : logged data : key-lgd-11:37:45_PM-17_06_2024-jQ1l \n",
      "/home/lokesh/test.ox-db/lgd-17_06_2024.bson\n",
      "ox-db : logged data : key-lgd-11:37:45_PM-17_06_2024-CUxT \n",
      "/home/lokesh/test.ox-db/lgd-17_06_2024.bson\n",
      "ox-db : logged data : key-lgd-11:37:45_PM-17_06_2024-KYZl \n",
      "/home/lokesh/test.ox-db/lgd-17_06_2024.bson\n"
     ]
    }
   ],
   "source": [
    "log.push(\"remember me : need to do code implementation for key lang conversation \")\n",
    "log.push(\"remember me : gym time is morning from today  \")\n",
    "log.push(\"remember me : base vector db arcchitecture is done  \")\n",
    "log.push(\"remember me : need to do more research on deep learning  \")"
   ]
  },
  {
   "cell_type": "code",
   "execution_count": 4,
   "metadata": {},
   "outputs": [
    {
     "name": "stdout",
     "output_type": "stream",
     "text": [
      "ox-db : logged data : key-lgd-11:37:46_PM-17_06_2024-TWc2 \n",
      "/home/lokesh/test.ox-db/lgd-17_06_2024.bson\n",
      "ox-db : logged data : key-lgd-11:37:46_PM-17_06_2024-OslY \n",
      "/home/lokesh/test.ox-db/lgd-17_06_2024.bson\n",
      "ox-db : logged data : key-lgd-11:37:46_PM-17_06_2024-8lxy \n",
      "/home/lokesh/test.ox-db/lgd-17_06_2024.bson\n",
      "ox-db : logged data : key-lgd-11:37:46_PM-17_06_2024-cqly \n",
      "/home/lokesh/test.ox-db/lgd-17_06_2024.bson\n"
     ]
    }
   ],
   "source": [
    "log.push(\"need to do : find efficient data store and retrive method  \")\n",
    "log.push(\"need to do : i need to finesh deamon search asap  \")\n",
    "log.push(\"need to do : need to sleep  \")\n",
    "log.push(\"need to do : look out for bugs in code base and fix it   \")\n"
   ]
  },
  {
   "cell_type": "code",
   "execution_count": 5,
   "metadata": {},
   "outputs": [
    {
     "name": "stdout",
     "output_type": "stream",
     "text": [
      "ox-db : logged data : key-lgd-11:37:46_PM-17_06_2024-QEVu \n",
      "/home/lokesh/test.ox-db/lgd-17_06_2024.bson\n",
      "ox-db : logged data : key-lgd-11:37:46_PM-17_06_2024-6F8O \n",
      "/home/lokesh/test.ox-db/lgd-17_06_2024.bson\n",
      "ox-db : logged data : key-lgd-11:37:46_PM-17_06_2024-zVLr \n",
      "/home/lokesh/test.ox-db/lgd-17_06_2024.bson\n",
      "ox-db : logged data : key-lgd-11:37:46_PM-17_06_2024-K5sR \n",
      "/home/lokesh/test.ox-db/lgd-17_06_2024.bson\n",
      "ox-db : logged data : key-lgd-11:37:46_PM-17_06_2024-xwij \n",
      "/home/lokesh/test.ox-db/lgd-17_06_2024.bson\n"
     ]
    }
   ],
   "source": [
    "log.push(\"Hi I'm OX-AI your AI personal database \")\n",
    "log.push(\"I can store your documents with vector embaddings and retrive it based on vector search\")\n",
    "log.push(\"I'm currently under development\")\n",
    "log.push(\"looking forward to do more to increase your productivity!\")\n",
    "log.push(\"Hi I'm your AI personal database and I can store your documents with vector embeddings and retrieve them based on vector search. I'm currently under development, looking forward to doing more to increase your productivity!\")"
   ]
  },
  {
   "cell_type": "code",
   "execution_count": 6,
   "metadata": {},
   "outputs": [
    {
     "name": "stdout",
     "output_type": "stream",
     "text": [
      "ox-db : logged data : time-lgd-11:37:46_PM-17_06_2024-NyFa \n",
      "/home/lokesh/test.ox-db/lgd-17_06_2024.bson\n"
     ]
    }
   ],
   "source": [
    "log.push(\"hi\",key=\"time\")"
   ]
  },
  {
   "cell_type": "code",
   "execution_count": 7,
   "metadata": {},
   "outputs": [
    {
     "data": {
      "text/plain": [
       "[{'uid': 'key-lgd-11:37:45_PM-17_06_2024-qLCp',\n",
       "  'doc': 'lgd-17_06_2024',\n",
       "  'data': 'remember me : need to do code implementation for key lang conversation ',\n",
       "  'embeddings': None},\n",
       " {'uid': 'key-lgd-11:37:45_PM-17_06_2024-jQ1l',\n",
       "  'doc': 'lgd-17_06_2024',\n",
       "  'data': 'remember me : gym time is morning from today  ',\n",
       "  'embeddings': None},\n",
       " {'uid': 'key-lgd-11:37:45_PM-17_06_2024-CUxT',\n",
       "  'doc': 'lgd-17_06_2024',\n",
       "  'data': 'remember me : base vector db arcchitecture is done  ',\n",
       "  'embeddings': None},\n",
       " {'uid': 'key-lgd-11:37:45_PM-17_06_2024-KYZl',\n",
       "  'doc': 'lgd-17_06_2024',\n",
       "  'data': 'remember me : need to do more research on deep learning  ',\n",
       "  'embeddings': None},\n",
       " {'uid': 'key-lgd-11:37:46_PM-17_06_2024-TWc2',\n",
       "  'doc': 'lgd-17_06_2024',\n",
       "  'data': 'need to do : find efficient data store and retrive method  ',\n",
       "  'embeddings': None},\n",
       " {'uid': 'key-lgd-11:37:46_PM-17_06_2024-OslY',\n",
       "  'doc': 'lgd-17_06_2024',\n",
       "  'data': 'need to do : i need to finesh deamon search asap  ',\n",
       "  'embeddings': None},\n",
       " {'uid': 'key-lgd-11:37:46_PM-17_06_2024-8lxy',\n",
       "  'doc': 'lgd-17_06_2024',\n",
       "  'data': 'need to do : need to sleep  ',\n",
       "  'embeddings': None},\n",
       " {'uid': 'key-lgd-11:37:46_PM-17_06_2024-cqly',\n",
       "  'doc': 'lgd-17_06_2024',\n",
       "  'data': 'need to do : look out for bugs in code base and fix it   ',\n",
       "  'embeddings': None},\n",
       " {'uid': 'key-lgd-11:37:46_PM-17_06_2024-QEVu',\n",
       "  'doc': 'lgd-17_06_2024',\n",
       "  'data': \"Hi I'm OX-AI your AI personal database \",\n",
       "  'embeddings': None},\n",
       " {'uid': 'key-lgd-11:37:46_PM-17_06_2024-6F8O',\n",
       "  'doc': 'lgd-17_06_2024',\n",
       "  'data': 'I can store your documents with vector embaddings and retrive it based on vector search',\n",
       "  'embeddings': None},\n",
       " {'uid': 'key-lgd-11:37:46_PM-17_06_2024-zVLr',\n",
       "  'doc': 'lgd-17_06_2024',\n",
       "  'data': \"I'm currently under development\",\n",
       "  'embeddings': None},\n",
       " {'uid': 'key-lgd-11:37:46_PM-17_06_2024-K5sR',\n",
       "  'doc': 'lgd-17_06_2024',\n",
       "  'data': 'looking forward to do more to increase your productivity!',\n",
       "  'embeddings': None},\n",
       " {'uid': 'key-lgd-11:37:46_PM-17_06_2024-xwij',\n",
       "  'doc': 'lgd-17_06_2024',\n",
       "  'data': \"Hi I'm your AI personal database and I can store your documents with vector embeddings and retrieve them based on vector search. I'm currently under development, looking forward to doing more to increase your productivity!\",\n",
       "  'embeddings': None},\n",
       " {'uid': 'time-lgd-11:37:46_PM-17_06_2024-NyFa',\n",
       "  'doc': 'lgd-17_06_2024',\n",
       "  'data': 'hi',\n",
       "  'embeddings': None}]"
      ]
     },
     "execution_count": 7,
     "metadata": {},
     "output_type": "execute_result"
    }
   ],
   "source": [
    "log.pull()"
   ]
  },
  {
   "cell_type": "code",
   "execution_count": 8,
   "metadata": {},
   "outputs": [
    {
     "data": {
      "text/plain": [
       "[{'uid': 'time-lgd-11:37:46_PM-17_06_2024-NyFa',\n",
       "  'doc': 'lgd-17_06_2024',\n",
       "  'data': 'hi',\n",
       "  'embeddings': None,\n",
       "  'sim_score': 0.0},\n",
       " {'uid': 'key-lgd-11:37:46_PM-17_06_2024-QEVu',\n",
       "  'doc': 'lgd-17_06_2024',\n",
       "  'data': \"Hi I'm OX-AI your AI personal database \",\n",
       "  'embeddings': None,\n",
       "  'sim_score': 1.1212828940400494},\n",
       " {'uid': 'key-lgd-11:37:46_PM-17_06_2024-zVLr',\n",
       "  'doc': 'lgd-17_06_2024',\n",
       "  'data': \"I'm currently under development\",\n",
       "  'embeddings': None,\n",
       "  'sim_score': 1.2033727922265611}]"
      ]
     },
     "execution_count": 8,
     "metadata": {},
     "output_type": "execute_result"
    }
   ],
   "source": [
    "log.search(\"hi\",3)"
   ]
  },
  {
   "cell_type": "code",
   "execution_count": 9,
   "metadata": {},
   "outputs": [
    {
     "data": {
      "text/plain": [
       "'key-lgd-11:37:48_PM-17_06_2024-n5iI'"
      ]
     },
     "execution_count": 9,
     "metadata": {},
     "output_type": "execute_result"
    }
   ],
   "source": [
    "log.gen_uid()"
   ]
  }
 ],
 "metadata": {
  "kernelspec": {
   "display_name": "Python 3",
   "language": "python",
   "name": "python3"
  },
  "language_info": {
   "codemirror_mode": {
    "name": "ipython",
    "version": 3
   },
   "file_extension": ".py",
   "mimetype": "text/x-python",
   "name": "python",
   "nbconvert_exporter": "python",
   "pygments_lexer": "ipython3",
   "version": "3.11.9"
  }
 },
 "nbformat": 4,
 "nbformat_minor": 2
}
