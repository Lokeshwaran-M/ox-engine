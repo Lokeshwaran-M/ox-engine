{
 "cells": [
  {
   "cell_type": "code",
   "execution_count": 1,
   "metadata": {},
   "outputs": [],
   "source": [
    "from ox_engine.log import Log\n",
    "import tiktoken\n",
    "\n",
    "log=Log()\n",
    "tok = tiktoken.get_encoding(\"gpt2\")\n"
   ]
  },
  {
   "cell_type": "code",
   "execution_count": 19,
   "metadata": {},
   "outputs": [
    {
     "name": "stdout",
     "output_type": "stream",
     "text": [
      "logged data : 12:27:55-AM note.json \n",
      "path=/home/lokesh/.ox-db/note.json\n"
     ]
    }
   ],
   "source": [
    "enc_data = tok.encode(\"key:test tag:note  -   log with vector embaddings\")\n",
    "log.push(enc_data,tag=\"note\")\n"
   ]
  },
  {
   "cell_type": "code",
   "execution_count": 20,
   "metadata": {},
   "outputs": [
    {
     "name": "stdout",
     "output_type": "stream",
     "text": [
      "key:test tag:note  -   log with vector embaddings [{'tag': 'note', 'key': 'test', 'data': [2539, 25, 9288, 7621, 25, 11295, 220, 532, 220, 220, 2604, 351, 15879, 4072, 2860, 654]}, {'tag': 'note', 'key': '12:27:55-AM', 'data': [2539, 25, 9288, 7621, 25, 11295, 220, 532, 220, 220, 2604, 351, 15879, 4072, 2860, 654]}]\n"
     ]
    }
   ],
   "source": [
    "\n",
    "data =log.pull(tag=\"note\")\n",
    "\n",
    "dec_data = tok.decode(data[-1][\"data\"])\n",
    "print(dec_data,data)"
   ]
  }
 ],
 "metadata": {
  "kernelspec": {
   "display_name": "Python 3",
   "language": "python",
   "name": "python3"
  },
  "language_info": {
   "codemirror_mode": {
    "name": "ipython",
    "version": 3
   },
   "file_extension": ".py",
   "mimetype": "text/x-python",
   "name": "python",
   "nbconvert_exporter": "python",
   "pygments_lexer": "ipython3",
   "version": "3.11.9"
  }
 },
 "nbformat": 4,
 "nbformat_minor": 2
}
