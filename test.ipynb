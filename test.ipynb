{
 "cells": [
  {
   "cell_type": "code",
   "execution_count": 1,
   "metadata": {},
   "outputs": [],
   "source": [
    "from ox_engine.log import Log\n",
    "\n",
    "\n",
    "log=Log()"
   ]
  },
  {
   "cell_type": "code",
   "execution_count": 2,
   "metadata": {},
   "outputs": [
    {
     "name": "stdout",
     "output_type": "stream",
     "text": [
      "logged data : log 11:05:15-PM 05-06-2024.json.json path=/home/lokesh/.ox-db/05-06-2024.json\n"
     ]
    }
   ],
   "source": [
    "\n",
    "log.push(\"hello world log-4\")\n"
   ]
  },
  {
   "cell_type": "code",
   "execution_count": 3,
   "metadata": {},
   "outputs": [
    {
     "data": {
      "text/plain": [
       "[{'key': '10:52:08-PM', 'data': 'hello world log-1'},\n",
       " {'key': '10:56:09-PM', 'data': 'hello world log-3'},\n",
       " {'key': '10:56:15-PM', 'data': 'hello world log-3'},\n",
       " {'key': '10:56:18-PM', 'data': 'hello world log-3'},\n",
       " {'key': '10:56:30-PM', 'data': 'hello world log-3'},\n",
       " {'key': '10:56:36-PM', 'data': 'hello world log-4'},\n",
       " {'key': '10:59:16-PM', 'data': 'hello world log-4'},\n",
       " {'key': '11:05:15-PM', 'data': 'hello world log-4'}]"
      ]
     },
     "execution_count": 3,
     "metadata": {},
     "output_type": "execute_result"
    }
   ],
   "source": [
    "log.pull()"
   ]
  }
 ],
 "metadata": {
  "kernelspec": {
   "display_name": "Python 3",
   "language": "python",
   "name": "python3"
  },
  "language_info": {
   "codemirror_mode": {
    "name": "ipython",
    "version": 3
   },
   "file_extension": ".py",
   "mimetype": "text/x-python",
   "name": "python",
   "nbconvert_exporter": "python",
   "pygments_lexer": "ipython3",
   "version": "3.11.9"
  }
 },
 "nbformat": 4,
 "nbformat_minor": 2
}
